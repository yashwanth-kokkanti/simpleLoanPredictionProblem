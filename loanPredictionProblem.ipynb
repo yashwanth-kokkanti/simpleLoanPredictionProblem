{
  "nbformat": 4,
  "nbformat_minor": 0,
  "metadata": {
    "colab": {
      "name": "loanPredictionProblem.ipynb",
      "provenance": [],
      "authorship_tag": "ABX9TyN63bi4BdP7YmrEuLMw+kYj",
      "include_colab_link": true
    },
    "kernelspec": {
      "name": "python3",
      "display_name": "Python 3"
    }
  },
  "cells": [
    {
      "cell_type": "markdown",
      "metadata": {
        "id": "view-in-github",
        "colab_type": "text"
      },
      "source": [
        "<a href=\"https://colab.research.google.com/github/yashwanth-kokkanti/simpleLoanPredictionProblem/blob/main/loanPredictionProblem.ipynb\" target=\"_parent\"><img src=\"https://colab.research.google.com/assets/colab-badge.svg\" alt=\"Open In Colab\"/></a>"
      ]
    },
    {
      "cell_type": "code",
      "metadata": {
        "colab": {
          "base_uri": "https://localhost:8080/",
          "height": 85
        },
        "id": "V5dUr0G-PNTI",
        "outputId": "ad41a765-9e4f-4d1e-9e0a-6b9248bf3bfd"
      },
      "source": [
        "## Simple loan prediction problem for practise \r\n",
        "\r\n",
        "\r\n",
        "### Problem Statement\r\n",
        "\r\n",
        "''' Data is collected from a Financ Company which deals in home loans. Comapny wants to automate the checking of loan eligibility process \r\n",
        "    based on consumer data provided during filling forms. These details include Gender, Marital Status, Education, Number of Dependants, \r\n",
        "    Income, Loan amount, credit History etc. \r\n",
        "\r\n",
        "    - Its a binary classification problem whether loan would be approved or not. ''' \r\n",
        "\r\n",
        "\r\n",
        "\r\n"
      ],
      "execution_count": 1,
      "outputs": [
        {
          "output_type": "execute_result",
          "data": {
            "application/vnd.google.colaboratory.intrinsic+json": {
              "type": "string"
            },
            "text/plain": [
              "' Data is collected from a Financ Company which deals in home loans. Comapny wants to automate the checking of loan eligibility process \\n    based on consumer data provided during filling forms. These details include Gender, Marital Status, Education, Number of Dependants, \\n    Income, Loan amount, credit History etc. \\n\\n    - Its a binary classification problem whether loan would be approved or not. '"
            ]
          },
          "metadata": {
            "tags": []
          },
          "execution_count": 1
        }
      ]
    },
    {
      "cell_type": "code",
      "metadata": {
        "id": "EPYIYB5vSjCt"
      },
      "source": [
        "import pandas as pd\r\n",
        "import numpy as np\r\n",
        "import seaborn as sns\r\n",
        "import matplotlib.pyplot as plt \r\n",
        "\r\n",
        "%matplotlib inline\r\n"
      ],
      "execution_count": 2,
      "outputs": []
    },
    {
      "cell_type": "code",
      "metadata": {
        "id": "e4DqwsWgWzZw"
      },
      "source": [
        "train = pd.read_csv('/content/train_ctrUa4K.csv')\r\n",
        "test = pd.read_csv('/content/test_lAUu6dG.csv')\r\n",
        "\r\n",
        "train_original = train.copy()\r\n",
        "test_original = test.copy()"
      ],
      "execution_count": 3,
      "outputs": []
    },
    {
      "cell_type": "code",
      "metadata": {
        "colab": {
          "base_uri": "https://localhost:8080/"
        },
        "id": "D7kE-a47XHyM",
        "outputId": "478a2553-f548-467e-9be5-2943d12e9e12"
      },
      "source": [
        "## Few insights about Data \r\n",
        "\r\n",
        "train.columns"
      ],
      "execution_count": 4,
      "outputs": [
        {
          "output_type": "execute_result",
          "data": {
            "text/plain": [
              "Index(['Loan_ID', 'Gender', 'Married', 'Dependents', 'Education',\n",
              "       'Self_Employed', 'ApplicantIncome', 'CoapplicantIncome', 'LoanAmount',\n",
              "       'Loan_Amount_Term', 'Credit_History', 'Property_Area', 'Loan_Status'],\n",
              "      dtype='object')"
            ]
          },
          "metadata": {
            "tags": []
          },
          "execution_count": 4
        }
      ]
    },
    {
      "cell_type": "code",
      "metadata": {
        "colab": {
          "base_uri": "https://localhost:8080/"
        },
        "id": "VAatv3v8XgK-",
        "outputId": "9891a262-367a-4de5-8165-f384e0845680"
      },
      "source": [
        "test.columns"
      ],
      "execution_count": 5,
      "outputs": [
        {
          "output_type": "execute_result",
          "data": {
            "text/plain": [
              "Index(['Loan_ID', 'Gender', 'Married', 'Dependents', 'Education',\n",
              "       'Self_Employed', 'ApplicantIncome', 'CoapplicantIncome', 'LoanAmount',\n",
              "       'Loan_Amount_Term', 'Credit_History', 'Property_Area'],\n",
              "      dtype='object')"
            ]
          },
          "metadata": {
            "tags": []
          },
          "execution_count": 5
        }
      ]
    },
    {
      "cell_type": "code",
      "metadata": {
        "colab": {
          "base_uri": "https://localhost:8080/"
        },
        "id": "CSJ08OudXiDr",
        "outputId": "87ac7622-b7a7-46d3-9d6b-330600f3054a"
      },
      "source": [
        "train.shape, test.shape"
      ],
      "execution_count": 6,
      "outputs": [
        {
          "output_type": "execute_result",
          "data": {
            "text/plain": [
              "((614, 13), (367, 12))"
            ]
          },
          "metadata": {
            "tags": []
          },
          "execution_count": 6
        }
      ]
    },
    {
      "cell_type": "code",
      "metadata": {
        "colab": {
          "base_uri": "https://localhost:8080/"
        },
        "id": "DuC27-EQXl_-",
        "outputId": "8f3094b6-319e-4386-9692-7641278517f0"
      },
      "source": [
        "## Univariate analysis \r\n",
        "\r\n",
        "train['Loan_Status'].value_counts()"
      ],
      "execution_count": 7,
      "outputs": [
        {
          "output_type": "execute_result",
          "data": {
            "text/plain": [
              "Y    422\n",
              "N    192\n",
              "Name: Loan_Status, dtype: int64"
            ]
          },
          "metadata": {
            "tags": []
          },
          "execution_count": 7
        }
      ]
    },
    {
      "cell_type": "code",
      "metadata": {
        "colab": {
          "base_uri": "https://localhost:8080/"
        },
        "id": "2hhJGRN0Xw9z",
        "outputId": "78276135-e238-4893-f30f-fe80d26719f7"
      },
      "source": [
        "train['Loan_Status'].value_counts(normalize=True)"
      ],
      "execution_count": 8,
      "outputs": [
        {
          "output_type": "execute_result",
          "data": {
            "text/plain": [
              "Y    0.687296\n",
              "N    0.312704\n",
              "Name: Loan_Status, dtype: float64"
            ]
          },
          "metadata": {
            "tags": []
          },
          "execution_count": 8
        }
      ]
    },
    {
      "cell_type": "code",
      "metadata": {
        "colab": {
          "base_uri": "https://localhost:8080/",
          "height": 280
        },
        "id": "DyRuuJKpX94s",
        "outputId": "c1a3c685-5142-422f-f0d0-d3542f620dfe"
      },
      "source": [
        "train['Loan_Status'].value_counts().plot.bar()"
      ],
      "execution_count": 9,
      "outputs": [
        {
          "output_type": "execute_result",
          "data": {
            "text/plain": [
              "<matplotlib.axes._subplots.AxesSubplot at 0x7f4af65e5f60>"
            ]
          },
          "metadata": {
            "tags": []
          },
          "execution_count": 9
        },
        {
          "output_type": "display_data",
          "data": {
            "image/png": "[encoded data removed]",
            "text/plain": [
              "<Figure size 432x288 with 1 Axes>"
            ]
          },
          "metadata": {
            "tags": [],
            "needs_background": "light"
          }
        }
      ]
    },
    {
      "cell_type": "code",
      "metadata": {
        "colab": {
          "base_uri": "https://localhost:8080/",
          "height": 206
        },
        "id": "8r7GQGlDYBIK",
        "outputId": "cce03efc-db69-431a-f7ef-55e2ac507b34"
      },
      "source": [
        "plt.figure(1)\r\n",
        "plt.subplot(221)\r\n",
        "train['Gender'].value_counts(normalize=True).plot.bar( title='Gender')"
      ],
      "execution_count": 10,
      "outputs": [
        {
          "output_type": "execute_result",
          "data": {
            "text/plain": [
              "<matplotlib.axes._subplots.AxesSubplot at 0x7f4af655eb00>"
            ]
          },
          "metadata": {
            "tags": []
          },
          "execution_count": 10
        },
        {
          "output_type": "display_data",
          "data": {
            "image/png": "[encoded data removed]",
            "text/plain": [
              "<Figure size 432x288 with 1 Axes>"
            ]
          },
          "metadata": {
            "tags": [],
            "needs_background": "light"
          }
        }
      ]
    },
    {
      "cell_type": "code",
      "metadata": {
        "colab": {
          "base_uri": "https://localhost:8080/",
          "height": 185
        },
        "id": "L9gVnASlYYyo",
        "outputId": "e467bd5b-a220-4f01-cb71-aa7edf34d107"
      },
      "source": [
        "plt.subplot(222)\r\n",
        "train['Married'].value_counts(normalize=True).plot.bar( title='Married')"
      ],
      "execution_count": 11,
      "outputs": [
        {
          "output_type": "execute_result",
          "data": {
            "text/plain": [
              "<matplotlib.axes._subplots.AxesSubplot at 0x7f4af6064ba8>"
            ]
          },
          "metadata": {
            "tags": []
          },
          "execution_count": 11
        },
        {
          "output_type": "display_data",
          "data": {
            "image/png": "[encoded data removed]",
            "text/plain": [
              "<Figure size 432x288 with 1 Axes>"
            ]
          },
          "metadata": {
            "tags": [],
            "needs_background": "light"
          }
        }
      ]
    },
    {
      "cell_type": "code",
      "metadata": {
        "colab": {
          "base_uri": "https://localhost:8080/",
          "height": 185
        },
        "id": "BlNQkOYaYt8m",
        "outputId": "e6a91466-c118-4450-a71a-3e6ff42a0014"
      },
      "source": [
        "plt.subplot(223)\r\n",
        "train['Self_Employed'].value_counts(normalize=True).plot.bar(title='Self_Employed')"
      ],
      "execution_count": 12,
      "outputs": [
        {
          "output_type": "execute_result",
          "data": {
            "text/plain": [
              "<matplotlib.axes._subplots.AxesSubplot at 0x7f4af6034da0>"
            ]
          },
          "metadata": {
            "tags": []
          },
          "execution_count": 12
        },
        {
          "output_type": "display_data",
          "data": {
            "image/png": "[encoded data removed]",
            "text/plain": [
              "<Figure size 432x288 with 1 Axes>"
            ]
          },
          "metadata": {
            "tags": [],
            "needs_background": "light"
          }
        }
      ]
    },
    {
      "cell_type": "code",
      "metadata": {
        "colab": {
          "base_uri": "https://localhost:8080/",
          "height": 185
        },
        "id": "SdUhxs8aY2sO",
        "outputId": "5874385d-85d0-4c81-a408-6c774c53f866"
      },
      "source": [
        "plt.subplot(224)\r\n",
        "train['Credit_History'].value_counts(normalize=True).plot.bar(title='Credit_History')"
      ],
      "execution_count": 13,
      "outputs": [
        {
          "output_type": "execute_result",
          "data": {
            "text/plain": [
              "<matplotlib.axes._subplots.AxesSubplot at 0x7f4af6048d68>"
            ]
          },
          "metadata": {
            "tags": []
          },
          "execution_count": 13
        },
        {
          "output_type": "display_data",
          "data": {
            "image/png": "[encoded data removed]",
            "text/plain": [
              "<Figure size 432x288 with 1 Axes>"
            ]
          },
          "metadata": {
            "tags": [],
            "needs_background": "light"
          }
        }
      ]
    },
    {
      "cell_type": "code",
      "metadata": {
        "colab": {
          "base_uri": "https://localhost:8080/"
        },
        "id": "D14seI1fZFVc",
        "outputId": "adb6ac62-aa15-4db4-c0f7-dda86b2534ff"
      },
      "source": [
        "## It represents that 80% of the applicants are Male \r\n",
        "## 65% applicants are married \r\n",
        "## 15% of applicants are self_employed\r\n",
        "## 85% of applicants have repayed their debts \r\n",
        "\r\n",
        "plt.figure"
      ],
      "execution_count": 14,
      "outputs": [
        {
          "output_type": "execute_result",
          "data": {
            "text/plain": [
              "<function matplotlib.pyplot.figure>"
            ]
          },
          "metadata": {
            "tags": []
          },
          "execution_count": 14
        }
      ]
    },
    {
      "cell_type": "code",
      "metadata": {
        "colab": {
          "base_uri": "https://localhost:8080/",
          "height": 356
        },
        "id": "35qxXjW4ZHXu",
        "outputId": "fb1ff2a6-becd-4dde-975b-80c3faf1f7d2"
      },
      "source": [
        "plt.figure(1)\r\n",
        "plt.subplot(131)\r\n",
        "train['Dependents'].value_counts(normalize=True).plot.bar(title='Dependents')\r\n",
        "plt.subplot(132)\r\n",
        "train['Education'].value_counts(normalize=True).plot.bar(title='Education')\r\n",
        "plt.subplot(133)\r\n",
        "train['Property_Area'].value_counts(normalize=True).plot.bar(title='Property_Area')"
      ],
      "execution_count": 15,
      "outputs": [
        {
          "output_type": "execute_result",
          "data": {
            "text/plain": [
              "<matplotlib.axes._subplots.AxesSubplot at 0x7f4af5ecf7f0>"
            ]
          },
          "metadata": {
            "tags": []
          },
          "execution_count": 15
        },
        {
          "output_type": "display_data",
          "data": {
            "image/png": "[encoded data removed]",
            "text/plain": [
              "<Figure size 432x288 with 3 Axes>"
            ]
          },
          "metadata": {
            "tags": [],
            "needs_background": "light"
          }
        }
      ]
    },
    {
      "cell_type": "code",
      "metadata": {
        "id": "Cz1qVGXRbDs6"
      },
      "source": [
        "## Most of the applicants dont have Depedents\r\n",
        "## Around 80% are Graduates\r\n",
        "## Most of the applicants are from semi-urban areas \r\n"
      ],
      "execution_count": 16,
      "outputs": []
    },
    {
      "cell_type": "code",
      "metadata": {
        "colab": {
          "base_uri": "https://localhost:8080/",
          "height": 387
        },
        "id": "LkJnA-_QbSm0",
        "outputId": "80ddd017-4700-4af3-8e9e-2ef1a9968622"
      },
      "source": [
        "plt.figure(1)\r\n",
        "plt.subplot(121)\r\n",
        "sns.distplot(train['ApplicantIncome'])\r\n",
        "plt.subplot(122)\r\n",
        "train['ApplicantIncome'].plot.box(figsize=(16,5))\r\n",
        "plt.show()"
      ],
      "execution_count": 17,
      "outputs": [
        {
          "output_type": "stream",
          "text": [
            "/usr/local/lib/python3.6/dist-packages/seaborn/distributions.py:2551: FutureWarning: `distplot` is a deprecated function and will be removed in a future version. Please adapt your code to use either `displot` (a figure-level function with similar flexibility) or `histplot` (an axes-level function for histograms).\n",
            "  warnings.warn(msg, FutureWarning)\n"
          ],
          "name": "stderr"
        },
        {
          "output_type": "display_data",
          "data": {
            "image/png": "[encoded data removed]",
            "text/plain": [
              "<Figure size 1152x360 with 2 Axes>"
            ]
          },
          "metadata": {
            "tags": [],
            "needs_background": "light"
          }
        }
      ]
    },
    {
      "cell_type": "code",
      "metadata": {
        "colab": {
          "base_uri": "https://localhost:8080/",
          "height": 364
        },
        "id": "tCQLfy8qbjIM",
        "outputId": "3ce0ef59-06ae-4091-8e26-a5125fc2cd9d"
      },
      "source": [
        "train.boxplot(column='ApplicantIncome', by='Education')\r\n",
        "plt.suptitle(\"\")"
      ],
      "execution_count": 18,
      "outputs": [
        {
          "output_type": "stream",
          "text": [
            "/usr/local/lib/python3.6/dist-packages/numpy/core/_asarray.py:83: VisibleDeprecationWarning: Creating an ndarray from ragged nested sequences (which is a list-or-tuple of lists-or-tuples-or ndarrays with different lengths or shapes) is deprecated. If you meant to do this, you must specify 'dtype=object' when creating the ndarray\n",
            "  return array(a, dtype, copy=False, order=order)\n"
          ],
          "name": "stderr"
        },
        {
          "output_type": "execute_result",
          "data": {
            "text/plain": [
              "Text(0.5, 0.98, '')"
            ]
          },
          "metadata": {
            "tags": []
          },
          "execution_count": 18
        },
        {
          "output_type": "display_data",
          "data": {
            "image/png": "[encoded data removed]",
            "text/plain": [
              "<Figure size 432x288 with 1 Axes>"
            ]
          },
          "metadata": {
            "tags": [],
            "needs_background": "light"
          }
        }
      ]
    },
    {
      "cell_type": "code",
      "metadata": {
        "colab": {
          "base_uri": "https://localhost:8080/",
          "height": 387
        },
        "id": "BEzr3IJbduyU",
        "outputId": "ce599584-2093-46c4-83b8-ce805410fb36"
      },
      "source": [
        "plt.figure(1)\r\n",
        "plt.subplot(121)\r\n",
        "sns.distplot(train['CoapplicantIncome'])\r\n",
        "plt.subplot(122)\r\n",
        "train['CoapplicantIncome'].plot.box(figsize=(16,5))\r\n",
        "plt.show()"
      ],
      "execution_count": 19,
      "outputs": [
        {
          "output_type": "stream",
          "text": [
            "/usr/local/lib/python3.6/dist-packages/seaborn/distributions.py:2551: FutureWarning: `distplot` is a deprecated function and will be removed in a future version. Please adapt your code to use either `displot` (a figure-level function with similar flexibility) or `histplot` (an axes-level function for histograms).\n",
            "  warnings.warn(msg, FutureWarning)\n"
          ],
          "name": "stderr"
        },
        {
          "output_type": "display_data",
          "data": {
            "image/png": "[encoded data removed]",
            "text/plain": [
              "<Figure size 1152x360 with 2 Axes>"
            ]
          },
          "metadata": {
            "tags": [],
            "needs_background": "light"
          }
        }
      ]
    },
    {
      "cell_type": "code",
      "metadata": {
        "colab": {
          "base_uri": "https://localhost:8080/",
          "height": 387
        },
        "id": "6XgZAubMeIHd",
        "outputId": "15cd9ebd-da21-4daa-ae2e-9de69c5897f7"
      },
      "source": [
        "plt.figure(1)\r\n",
        "plt.subplot(121)\r\n",
        "sns.distplot(train['LoanAmount'])\r\n",
        "plt.subplot(122)\r\n",
        "train['LoanAmount'].plot.box(figsize=(16,5))\r\n",
        "plt.show()"
      ],
      "execution_count": 20,
      "outputs": [
        {
          "output_type": "stream",
          "text": [
            "/usr/local/lib/python3.6/dist-packages/seaborn/distributions.py:2551: FutureWarning: `distplot` is a deprecated function and will be removed in a future version. Please adapt your code to use either `displot` (a figure-level function with similar flexibility) or `histplot` (an axes-level function for histograms).\n",
            "  warnings.warn(msg, FutureWarning)\n"
          ],
          "name": "stderr"
        },
        {
          "output_type": "display_data",
          "data": {
            "image/png": "[encoded data removed]",
            "text/plain": [
              "<Figure size 1152x360 with 2 Axes>"
            ]
          },
          "metadata": {
            "tags": [],
            "needs_background": "light"
          }
        }
      ]
    },
    {
      "cell_type": "code",
      "metadata": {
        "colab": {
          "base_uri": "https://localhost:8080/",
          "height": 321
        },
        "id": "peSZdF9beNEi",
        "outputId": "b44dd373-3e5d-48f8-b3f7-d506c1783707"
      },
      "source": [
        "### BiVariate Analysis \r\n",
        "\r\n",
        "## First let us find the relation between categorical and target variables \r\n",
        "\r\n",
        "Gender = pd.crosstab(train['Gender'], train['Loan_Status'])\r\n",
        "Gender.div(Gender.sum(1).astype(float), axis=0).plot(kind='bar', stacked=True, figsize=(4,4))"
      ],
      "execution_count": 21,
      "outputs": [
        {
          "output_type": "execute_result",
          "data": {
            "text/plain": [
              "<matplotlib.axes._subplots.AxesSubplot at 0x7f4af5999d30>"
            ]
          },
          "metadata": {
            "tags": []
          },
          "execution_count": 21
        },
        {
          "output_type": "display_data",
          "data": {
            "image/png": "[encoded data removed]",
            "text/plain": [
              "<Figure size 288x288 with 1 Axes>"
            ]
          },
          "metadata": {
            "tags": [],
            "needs_background": "light"
          }
        }
      ]
    },
    {
      "cell_type": "code",
      "metadata": {
        "colab": {
          "base_uri": "https://localhost:8080/",
          "height": 1000
        },
        "id": "US24b3wTfPyj",
        "outputId": "c1c41c39-34ee-451a-a602-245e79745d2e"
      },
      "source": [
        "Married = pd.crosstab(train['Married'], train['Loan_Status'])\r\n",
        "Dependents = pd.crosstab(train['Dependents'], train['Loan_Status'])\r\n",
        "Education = pd.crosstab(train['Education'], train['Loan_Status'])\r\n",
        "Self_Employed = pd.crosstab(train['Self_Employed'], train['Loan_Status'])\r\n",
        "\r\n",
        "Married.div(Married.sum(1).astype(float), axis=0).plot(kind='bar', stacked=True, figsize=(4,4))\r\n",
        "Dependents.div(Dependents.sum(1).astype(float), axis=0).plot(kind='bar', stacked=True, figsize=(4,4))\r\n",
        "Education.div(Education.sum(1).astype(float), axis=0).plot(kind='bar', stacked=True, figsize=(4,4))\r\n",
        "Self_Employed.div(Self_Employed.sum(1).astype(float), axis=0).plot(kind='bar', stacked=True, figsize=(4,4))\r\n",
        "plt.show()"
      ],
      "execution_count": 22,
      "outputs": [
        {
          "output_type": "display_data",
          "data": {
            "image/png": "[encoded data removed]",
            "text/plain": [
              "<Figure size 288x288 with 1 Axes>"
            ]
          },
          "metadata": {
            "tags": [],
            "needs_background": "light"
          }
        },
        {
          "output_type": "display_data",
          "data": {
            "image/png": "[encoded data removed]",
            "text/plain": [
              "<Figure size 288x288 with 1 Axes>"
            ]
          },
          "metadata": {
            "tags": [],
            "needs_background": "light"
          }
        },
        {
          "output_type": "display_data",
          "data": {
            "image/png": "[encoded data removed]",
            "text/plain": [
              "<Figure size 288x288 with 1 Axes>"
            ]
          },
          "metadata": {
            "tags": [],
            "needs_background": "light"
          }
        },
        {
          "output_type": "display_data",
          "data": {
            "image/png": "[encoded data removed]",
            "text/plain": [
              "<Figure size 288x288 with 1 Axes>"
            ]
          },
          "metadata": {
            "tags": [],
            "needs_background": "light"
          }
        }
      ]
    },
    {
      "cell_type": "code",
      "metadata": {
        "colab": {
          "base_uri": "https://localhost:8080/",
          "height": 294
        },
        "id": "T4srPyY7gDGz",
        "outputId": "89a108f1-9069-4ab2-e428-289a50660f04"
      },
      "source": [
        "train.groupby('Loan_Status')['ApplicantIncome'].mean().plot.bar()"
      ],
      "execution_count": 23,
      "outputs": [
        {
          "output_type": "execute_result",
          "data": {
            "text/plain": [
              "<matplotlib.axes._subplots.AxesSubplot at 0x7f4af590eeb8>"
            ]
          },
          "metadata": {
            "tags": []
          },
          "execution_count": 23
        },
        {
          "output_type": "display_data",
          "data": {
            "image/png": "[encoded data removed]",
            "text/plain": [
              "<Figure size 432x288 with 1 Axes>"
            ]
          },
          "metadata": {
            "tags": [],
            "needs_background": "light"
          }
        }
      ]
    },
    {
      "cell_type": "code",
      "metadata": {
        "id": "eBHOwJlRhAfi"
      },
      "source": [
        "## Lets Drop Bins which will change 3+ in dependents to 3 to make it numerical value \r\n",
        "train['Dependents'].replace('3+', 3, inplace=True)\r\n",
        "test['Dependents'].replace('3+', 3, inplace=True)\r\n",
        "\r\n",
        "train['Loan_Status'].replace('N', 0, inplace=True)\r\n",
        "train['Loan_Status'].replace('Y', 1, inplace=True)\r\n"
      ],
      "execution_count": 24,
      "outputs": []
    },
    {
      "cell_type": "code",
      "metadata": {
        "colab": {
          "base_uri": "https://localhost:8080/",
          "height": 481
        },
        "id": "NoyzbBtggdxh",
        "outputId": "70321411-4a36-4ad1-a7f4-e41165602ff5"
      },
      "source": [
        "matrix = train.corr()\r\n",
        "f, ax = plt.subplots(figsize=(9,6))\r\n",
        "sns.heatmap(matrix, vmax=0.8, square=True, cmap='BuPu')"
      ],
      "execution_count": 25,
      "outputs": [
        {
          "output_type": "execute_result",
          "data": {
            "text/plain": [
              "<matplotlib.axes._subplots.AxesSubplot at 0x7f4af5927978>"
            ]
          },
          "metadata": {
            "tags": []
          },
          "execution_count": 25
        },
        {
          "output_type": "display_data",
          "data": {
            "image/png": "[encoded data removed]",
            "text/plain": [
              "<Figure size 648x432 with 2 Axes>"
            ]
          },
          "metadata": {
            "tags": [],
            "needs_background": "light"
          }
        }
      ]
    },
    {
      "cell_type": "code",
      "metadata": {
        "colab": {
          "base_uri": "https://localhost:8080/",
          "height": 233
        },
        "id": "vlKIFqlfg5db",
        "outputId": "67a8e3d1-2a2b-4bf6-9169-2c8aedf720ff"
      },
      "source": [
        "train.head()"
      ],
      "execution_count": 26,
      "outputs": [
        {
          "output_type": "execute_result",
          "data": {
            "text/html": [
              "<div>\n",
              "<style scoped>\n",
              "    .dataframe tbody tr th:only-of-type {\n",
              "        vertical-align: middle;\n",
              "    }\n",
              "\n",
              "    .dataframe tbody tr th {\n",
              "        vertical-align: top;\n",
              "    }\n",
              "\n",
              "    .dataframe thead th {\n",
              "        text-align: right;\n",
              "    }\n",
              "</style>\n",
              "<table border=\"1\" class=\"dataframe\">\n",
              "  <thead>\n",
              "    <tr style=\"text-align: right;\">\n",
              "      <th></th>\n",
              "      <th>Loan_ID</th>\n",
              "      <th>Gender</th>\n",
              "      <th>Married</th>\n",
              "      <th>Dependents</th>\n",
              "      <th>Education</th>\n",
              "      <th>Self_Employed</th>\n",
              "      <th>ApplicantIncome</th>\n",
              "      <th>CoapplicantIncome</th>\n",
              "      <th>LoanAmount</th>\n",
              "      <th>Loan_Amount_Term</th>\n",
              "      <th>Credit_History</th>\n",
              "      <th>Property_Area</th>\n",
              "      <th>Loan_Status</th>\n",
              "    </tr>\n",
              "  </thead>\n",
              "  <tbody>\n",
              "    <tr>\n",
              "      <th>0</th>\n",
              "      <td>LP001002</td>\n",
              "      <td>Male</td>\n",
              "      <td>No</td>\n",
              "      <td>0</td>\n",
              "      <td>Graduate</td>\n",
              "      <td>No</td>\n",
              "      <td>5849</td>\n",
              "      <td>0.0</td>\n",
              "      <td>NaN</td>\n",
              "      <td>360.0</td>\n",
              "      <td>1.0</td>\n",
              "      <td>Urban</td>\n",
              "      <td>1</td>\n",
              "    </tr>\n",
              "    <tr>\n",
              "      <th>1</th>\n",
              "      <td>LP001003</td>\n",
              "      <td>Male</td>\n",
              "      <td>Yes</td>\n",
              "      <td>1</td>\n",
              "      <td>Graduate</td>\n",
              "      <td>No</td>\n",
              "      <td>4583</td>\n",
              "      <td>1508.0</td>\n",
              "      <td>128.0</td>\n",
              "      <td>360.0</td>\n",
              "      <td>1.0</td>\n",
              "      <td>Rural</td>\n",
              "      <td>0</td>\n",
              "    </tr>\n",
              "    <tr>\n",
              "      <th>2</th>\n",
              "      <td>LP001005</td>\n",
              "      <td>Male</td>\n",
              "      <td>Yes</td>\n",
              "      <td>0</td>\n",
              "      <td>Graduate</td>\n",
              "      <td>Yes</td>\n",
              "      <td>3000</td>\n",
              "      <td>0.0</td>\n",
              "      <td>66.0</td>\n",
              "      <td>360.0</td>\n",
              "      <td>1.0</td>\n",
              "      <td>Urban</td>\n",
              "      <td>1</td>\n",
              "    </tr>\n",
              "    <tr>\n",
              "      <th>3</th>\n",
              "      <td>LP001006</td>\n",
              "      <td>Male</td>\n",
              "      <td>Yes</td>\n",
              "      <td>0</td>\n",
              "      <td>Not Graduate</td>\n",
              "      <td>No</td>\n",
              "      <td>2583</td>\n",
              "      <td>2358.0</td>\n",
              "      <td>120.0</td>\n",
              "      <td>360.0</td>\n",
              "      <td>1.0</td>\n",
              "      <td>Urban</td>\n",
              "      <td>1</td>\n",
              "    </tr>\n",
              "    <tr>\n",
              "      <th>4</th>\n",
              "      <td>LP001008</td>\n",
              "      <td>Male</td>\n",
              "      <td>No</td>\n",
              "      <td>0</td>\n",
              "      <td>Graduate</td>\n",
              "      <td>No</td>\n",
              "      <td>6000</td>\n",
              "      <td>0.0</td>\n",
              "      <td>141.0</td>\n",
              "      <td>360.0</td>\n",
              "      <td>1.0</td>\n",
              "      <td>Urban</td>\n",
              "      <td>1</td>\n",
              "    </tr>\n",
              "  </tbody>\n",
              "</table>\n",
              "</div>"
            ],
            "text/plain": [
              "    Loan_ID Gender Married  ... Credit_History Property_Area Loan_Status\n",
              "0  LP001002   Male      No  ...            1.0         Urban           1\n",
              "1  LP001003   Male     Yes  ...            1.0         Rural           0\n",
              "2  LP001005   Male     Yes  ...            1.0         Urban           1\n",
              "3  LP001006   Male     Yes  ...            1.0         Urban           1\n",
              "4  LP001008   Male      No  ...            1.0         Urban           1\n",
              "\n",
              "[5 rows x 13 columns]"
            ]
          },
          "metadata": {
            "tags": []
          },
          "execution_count": 26
        }
      ]
    },
    {
      "cell_type": "code",
      "metadata": {
        "colab": {
          "base_uri": "https://localhost:8080/"
        },
        "id": "ckkFFOb-oXTZ",
        "outputId": "8a260f33-33d2-4e12-954d-da04b4071e77"
      },
      "source": [
        "### Missing Value Imputation \r\n",
        "\r\n",
        "train.isnull().sum()"
      ],
      "execution_count": 27,
      "outputs": [
        {
          "output_type": "execute_result",
          "data": {
            "text/plain": [
              "Loan_ID               0\n",
              "Gender               13\n",
              "Married               3\n",
              "Dependents           15\n",
              "Education             0\n",
              "Self_Employed        32\n",
              "ApplicantIncome       0\n",
              "CoapplicantIncome     0\n",
              "LoanAmount           22\n",
              "Loan_Amount_Term     14\n",
              "Credit_History       50\n",
              "Property_Area         0\n",
              "Loan_Status           0\n",
              "dtype: int64"
            ]
          },
          "metadata": {
            "tags": []
          },
          "execution_count": 27
        }
      ]
    },
    {
      "cell_type": "code",
      "metadata": {
        "id": "fR7qR1mYod4M"
      },
      "source": [
        "## For Numerical Variables imputation is Mean or Median \r\n",
        "## For Categorical Variables Imputation is mode \r\n",
        "\r\n",
        "train['Gender'].fillna(train['Gender'].mode()[0], inplace=True)\r\n",
        "train['Married'].fillna(train['Married'].mode()[0], inplace=True)\r\n",
        "train['Dependents'].fillna(train['Dependents'].mode()[0], inplace=True)\r\n",
        "train['Self_Employed'].fillna(train['Self_Employed'].mode()[0], inplace=True)\r\n",
        "train['Credit_History'].fillna(train['Credit_History'].mode()[0], inplace=True)\r\n",
        "\r\n"
      ],
      "execution_count": 28,
      "outputs": []
    },
    {
      "cell_type": "code",
      "metadata": {
        "colab": {
          "base_uri": "https://localhost:8080/"
        },
        "id": "CdwMvGtspJCr",
        "outputId": "5110025b-3b03-42fa-9970-fd200e34d03a"
      },
      "source": [
        "train['Loan_Amount_Term'].value_counts()"
      ],
      "execution_count": 29,
      "outputs": [
        {
          "output_type": "execute_result",
          "data": {
            "text/plain": [
              "360.0    512\n",
              "180.0     44\n",
              "480.0     15\n",
              "300.0     13\n",
              "84.0       4\n",
              "240.0      4\n",
              "120.0      3\n",
              "36.0       2\n",
              "60.0       2\n",
              "12.0       1\n",
              "Name: Loan_Amount_Term, dtype: int64"
            ]
          },
          "metadata": {
            "tags": []
          },
          "execution_count": 29
        }
      ]
    },
    {
      "cell_type": "code",
      "metadata": {
        "id": "Nki-KXifpMvC"
      },
      "source": [
        "## 360 appears most of the time. \r\n",
        "train['Loan_Amount_Term'].fillna(train['Loan_Amount_Term'].mode()[0], inplace=True)\r\n",
        "\r\n",
        "train['LoanAmount'].fillna(train['LoanAmount'].median(), inplace=True)\r\n"
      ],
      "execution_count": 30,
      "outputs": []
    },
    {
      "cell_type": "code",
      "metadata": {
        "colab": {
          "base_uri": "https://localhost:8080/"
        },
        "id": "bEVDF19hpqc-",
        "outputId": "4df67550-b095-4ba1-c620-39f3e962b8a0"
      },
      "source": [
        "train.isnull().sum()"
      ],
      "execution_count": 31,
      "outputs": [
        {
          "output_type": "execute_result",
          "data": {
            "text/plain": [
              "Loan_ID              0\n",
              "Gender               0\n",
              "Married              0\n",
              "Dependents           0\n",
              "Education            0\n",
              "Self_Employed        0\n",
              "ApplicantIncome      0\n",
              "CoapplicantIncome    0\n",
              "LoanAmount           0\n",
              "Loan_Amount_Term     0\n",
              "Credit_History       0\n",
              "Property_Area        0\n",
              "Loan_Status          0\n",
              "dtype: int64"
            ]
          },
          "metadata": {
            "tags": []
          },
          "execution_count": 31
        }
      ]
    },
    {
      "cell_type": "code",
      "metadata": {
        "colab": {
          "base_uri": "https://localhost:8080/"
        },
        "id": "O3CUCCulpsZs",
        "outputId": "5f5218c9-217e-459a-e684-25a0e552c3fb"
      },
      "source": [
        "## in Test Data \r\n",
        "\r\n",
        "test.isnull().sum()"
      ],
      "execution_count": 32,
      "outputs": [
        {
          "output_type": "execute_result",
          "data": {
            "text/plain": [
              "Loan_ID               0\n",
              "Gender               11\n",
              "Married               0\n",
              "Dependents           10\n",
              "Education             0\n",
              "Self_Employed        23\n",
              "ApplicantIncome       0\n",
              "CoapplicantIncome     0\n",
              "LoanAmount            5\n",
              "Loan_Amount_Term      6\n",
              "Credit_History       29\n",
              "Property_Area         0\n",
              "dtype: int64"
            ]
          },
          "metadata": {
            "tags": []
          },
          "execution_count": 32
        }
      ]
    },
    {
      "cell_type": "code",
      "metadata": {
        "id": "Zba7KsL5qdFG"
      },
      "source": [
        "test['Gender'].fillna(test['Gender'].mode()[0], inplace=True)\r\n",
        "#test['Married'].fillna(test['Married'].mode()[0], inplace=True)\r\n",
        "test['Dependents'].fillna(test['Dependents'].mode()[0], inplace=True)\r\n",
        "test['Self_Employed'].fillna(test['Self_Employed'].mode()[0], inplace=True)\r\n",
        "test['Credit_History'].fillna(test['Credit_History'].mode()[0], inplace=True)\r\n",
        "\r\n",
        "test['Loan_Amount_Term'].fillna(test['Loan_Amount_Term'].mode()[0], inplace=True)\r\n",
        "\r\n",
        "test['LoanAmount'].fillna(test['LoanAmount'].median(), inplace=True)"
      ],
      "execution_count": 33,
      "outputs": []
    },
    {
      "cell_type": "code",
      "metadata": {
        "colab": {
          "base_uri": "https://localhost:8080/"
        },
        "id": "aSVaekCXqfwN",
        "outputId": "ed2e772c-7e78-44df-d5e0-9b06c26c6f3d"
      },
      "source": [
        "test.isnull().sum()"
      ],
      "execution_count": 34,
      "outputs": [
        {
          "output_type": "execute_result",
          "data": {
            "text/plain": [
              "Loan_ID              0\n",
              "Gender               0\n",
              "Married              0\n",
              "Dependents           0\n",
              "Education            0\n",
              "Self_Employed        0\n",
              "ApplicantIncome      0\n",
              "CoapplicantIncome    0\n",
              "LoanAmount           0\n",
              "Loan_Amount_Term     0\n",
              "Credit_History       0\n",
              "Property_Area        0\n",
              "dtype: int64"
            ]
          },
          "metadata": {
            "tags": []
          },
          "execution_count": 34
        }
      ]
    },
    {
      "cell_type": "code",
      "metadata": {
        "colab": {
          "base_uri": "https://localhost:8080/",
          "height": 265
        },
        "id": "1p6XILVyqiJh",
        "outputId": "6373e94b-7fc9-41d9-b343-6befa27f4cc2"
      },
      "source": [
        "### Treating Outliers \r\n",
        "\r\n",
        "train['LoanAmount_Log'] = np.log(train['LoanAmount']) ## Log Transformation As Loan Amount has long right tail right skewed \r\n",
        "train['LoanAmount_Log'].hist(bins=20)\r\n",
        "\r\n",
        "test['LoanAmount_Log'] = np.log(test['LoanAmount'])\r\n"
      ],
      "execution_count": 35,
      "outputs": [
        {
          "output_type": "display_data",
          "data": {
            "image/png": "[encoded data removed]",
            "text/plain": [
              "<Figure size 432x288 with 1 Axes>"
            ]
          },
          "metadata": {
            "tags": [],
            "needs_background": "light"
          }
        }
      ]
    },
    {
      "cell_type": "code",
      "metadata": {
        "colab": {
          "base_uri": "https://localhost:8080/",
          "height": 448
        },
        "id": "pPuSpdMjrNUy",
        "outputId": "1b197877-7494-492b-8d4c-3e76c5dd5273"
      },
      "source": [
        "train.hist(bins=20)"
      ],
      "execution_count": 36,
      "outputs": [
        {
          "output_type": "execute_result",
          "data": {
            "text/plain": [
              "array([[<matplotlib.axes._subplots.AxesSubplot object at 0x7f4af5bacb70>,\n",
              "        <matplotlib.axes._subplots.AxesSubplot object at 0x7f4af5a1ee80>,\n",
              "        <matplotlib.axes._subplots.AxesSubplot object at 0x7f4af30dc128>],\n",
              "       [<matplotlib.axes._subplots.AxesSubplot object at 0x7f4af308e390>,\n",
              "        <matplotlib.axes._subplots.AxesSubplot object at 0x7f4af30c25f8>,\n",
              "        <matplotlib.axes._subplots.AxesSubplot object at 0x7f4af3075860>],\n",
              "       [<matplotlib.axes._subplots.AxesSubplot object at 0x7f4af3029ac8>,\n",
              "        <matplotlib.axes._subplots.AxesSubplot object at 0x7f4af2fdfcf8>,\n",
              "        <matplotlib.axes._subplots.AxesSubplot object at 0x7f4af2fdfd68>]],\n",
              "      dtype=object)"
            ]
          },
          "metadata": {
            "tags": []
          },
          "execution_count": 36
        },
        {
          "output_type": "display_data",
          "data": {
            "image/png": "[encoded data removed]",
            "text/plain": [
              "<Figure size 432x288 with 9 Axes>"
            ]
          },
          "metadata": {
            "tags": [],
            "needs_background": "light"
          }
        }
      ]
    },
    {
      "cell_type": "code",
      "metadata": {
        "id": "t9g9XqrkrRy0"
      },
      "source": [
        "### Building Model \r\n",
        "\r\n",
        "train = train.drop('Loan_ID', axis=1)\r\n",
        "test = test.drop('Loan_ID', axis=1)\r\n",
        "\r\n",
        "X = train.drop('Loan_Status', axis=1)\r\n",
        "y = train.Loan_Status\r\n",
        "\r\n"
      ],
      "execution_count": 37,
      "outputs": []
    },
    {
      "cell_type": "code",
      "metadata": {
        "id": "05rzBVSltCrB"
      },
      "source": [
        "X = pd.get_dummies(X) ## One hot encoding for Gender Column converts male and female to 0, 1\r\n",
        "\r\n",
        "train = pd.get_dummies(train)\r\n",
        "test = pd.get_dummies(test)"
      ],
      "execution_count": 38,
      "outputs": []
    },
    {
      "cell_type": "code",
      "metadata": {
        "colab": {
          "base_uri": "https://localhost:8080/",
          "height": 233
        },
        "id": "wXHL3QbettoN",
        "outputId": "efd3e78e-ca43-47dd-abea-75fa5dc64697"
      },
      "source": [
        "X.head()"
      ],
      "execution_count": 39,
      "outputs": [
        {
          "output_type": "execute_result",
          "data": {
            "text/html": [
              "<div>\n",
              "<style scoped>\n",
              "    .dataframe tbody tr th:only-of-type {\n",
              "        vertical-align: middle;\n",
              "    }\n",
              "\n",
              "    .dataframe tbody tr th {\n",
              "        vertical-align: top;\n",
              "    }\n",
              "\n",
              "    .dataframe thead th {\n",
              "        text-align: right;\n",
              "    }\n",
              "</style>\n",
              "<table border=\"1\" class=\"dataframe\">\n",
              "  <thead>\n",
              "    <tr style=\"text-align: right;\">\n",
              "      <th></th>\n",
              "      <th>ApplicantIncome</th>\n",
              "      <th>CoapplicantIncome</th>\n",
              "      <th>LoanAmount</th>\n",
              "      <th>Loan_Amount_Term</th>\n",
              "      <th>Credit_History</th>\n",
              "      <th>LoanAmount_Log</th>\n",
              "      <th>Gender_Female</th>\n",
              "      <th>Gender_Male</th>\n",
              "      <th>Married_No</th>\n",
              "      <th>Married_Yes</th>\n",
              "      <th>Dependents_3</th>\n",
              "      <th>Dependents_0</th>\n",
              "      <th>Dependents_1</th>\n",
              "      <th>Dependents_2</th>\n",
              "      <th>Education_Graduate</th>\n",
              "      <th>Education_Not Graduate</th>\n",
              "      <th>Self_Employed_No</th>\n",
              "      <th>Self_Employed_Yes</th>\n",
              "      <th>Property_Area_Rural</th>\n",
              "      <th>Property_Area_Semiurban</th>\n",
              "      <th>Property_Area_Urban</th>\n",
              "    </tr>\n",
              "  </thead>\n",
              "  <tbody>\n",
              "    <tr>\n",
              "      <th>0</th>\n",
              "      <td>5849</td>\n",
              "      <td>0.0</td>\n",
              "      <td>128.0</td>\n",
              "      <td>360.0</td>\n",
              "      <td>1.0</td>\n",
              "      <td>4.852030</td>\n",
              "      <td>0</td>\n",
              "      <td>1</td>\n",
              "      <td>1</td>\n",
              "      <td>0</td>\n",
              "      <td>0</td>\n",
              "      <td>1</td>\n",
              "      <td>0</td>\n",
              "      <td>0</td>\n",
              "      <td>1</td>\n",
              "      <td>0</td>\n",
              "      <td>1</td>\n",
              "      <td>0</td>\n",
              "      <td>0</td>\n",
              "      <td>0</td>\n",
              "      <td>1</td>\n",
              "    </tr>\n",
              "    <tr>\n",
              "      <th>1</th>\n",
              "      <td>4583</td>\n",
              "      <td>1508.0</td>\n",
              "      <td>128.0</td>\n",
              "      <td>360.0</td>\n",
              "      <td>1.0</td>\n",
              "      <td>4.852030</td>\n",
              "      <td>0</td>\n",
              "      <td>1</td>\n",
              "      <td>0</td>\n",
              "      <td>1</td>\n",
              "      <td>0</td>\n",
              "      <td>0</td>\n",
              "      <td>1</td>\n",
              "      <td>0</td>\n",
              "      <td>1</td>\n",
              "      <td>0</td>\n",
              "      <td>1</td>\n",
              "      <td>0</td>\n",
              "      <td>1</td>\n",
              "      <td>0</td>\n",
              "      <td>0</td>\n",
              "    </tr>\n",
              "    <tr>\n",
              "      <th>2</th>\n",
              "      <td>3000</td>\n",
              "      <td>0.0</td>\n",
              "      <td>66.0</td>\n",
              "      <td>360.0</td>\n",
              "      <td>1.0</td>\n",
              "      <td>4.189655</td>\n",
              "      <td>0</td>\n",
              "      <td>1</td>\n",
              "      <td>0</td>\n",
              "      <td>1</td>\n",
              "      <td>0</td>\n",
              "      <td>1</td>\n",
              "      <td>0</td>\n",
              "      <td>0</td>\n",
              "      <td>1</td>\n",
              "      <td>0</td>\n",
              "      <td>0</td>\n",
              "      <td>1</td>\n",
              "      <td>0</td>\n",
              "      <td>0</td>\n",
              "      <td>1</td>\n",
              "    </tr>\n",
              "    <tr>\n",
              "      <th>3</th>\n",
              "      <td>2583</td>\n",
              "      <td>2358.0</td>\n",
              "      <td>120.0</td>\n",
              "      <td>360.0</td>\n",
              "      <td>1.0</td>\n",
              "      <td>4.787492</td>\n",
              "      <td>0</td>\n",
              "      <td>1</td>\n",
              "      <td>0</td>\n",
              "      <td>1</td>\n",
              "      <td>0</td>\n",
              "      <td>1</td>\n",
              "      <td>0</td>\n",
              "      <td>0</td>\n",
              "      <td>0</td>\n",
              "      <td>1</td>\n",
              "      <td>1</td>\n",
              "      <td>0</td>\n",
              "      <td>0</td>\n",
              "      <td>0</td>\n",
              "      <td>1</td>\n",
              "    </tr>\n",
              "    <tr>\n",
              "      <th>4</th>\n",
              "      <td>6000</td>\n",
              "      <td>0.0</td>\n",
              "      <td>141.0</td>\n",
              "      <td>360.0</td>\n",
              "      <td>1.0</td>\n",
              "      <td>4.948760</td>\n",
              "      <td>0</td>\n",
              "      <td>1</td>\n",
              "      <td>1</td>\n",
              "      <td>0</td>\n",
              "      <td>0</td>\n",
              "      <td>1</td>\n",
              "      <td>0</td>\n",
              "      <td>0</td>\n",
              "      <td>1</td>\n",
              "      <td>0</td>\n",
              "      <td>1</td>\n",
              "      <td>0</td>\n",
              "      <td>0</td>\n",
              "      <td>0</td>\n",
              "      <td>1</td>\n",
              "    </tr>\n",
              "  </tbody>\n",
              "</table>\n",
              "</div>"
            ],
            "text/plain": [
              "   ApplicantIncome  ...  Property_Area_Urban\n",
              "0             5849  ...                    1\n",
              "1             4583  ...                    0\n",
              "2             3000  ...                    1\n",
              "3             2583  ...                    1\n",
              "4             6000  ...                    1\n",
              "\n",
              "[5 rows x 21 columns]"
            ]
          },
          "metadata": {
            "tags": []
          },
          "execution_count": 39
        }
      ]
    },
    {
      "cell_type": "code",
      "metadata": {
        "id": "W92bOjLvtvQ2"
      },
      "source": [
        "from sklearn.model_selection import train_test_split\r\n",
        "\r\n",
        "x_train, x_cv, y_train, y_cv = train_test_split(X, y, test_size=0.3)\r\n"
      ],
      "execution_count": 40,
      "outputs": []
    },
    {
      "cell_type": "code",
      "metadata": {
        "colab": {
          "base_uri": "https://localhost:8080/"
        },
        "id": "QJzXHYLJvDME",
        "outputId": "ac5cd5cf-eefc-4d3f-8dac-d8a1ed6276f3"
      },
      "source": [
        "from sklearn.linear_model import LogisticRegression\r\n",
        "from sklearn.metrics import accuracy_score\r\n",
        "\r\n",
        "model = LogisticRegression()\r\n",
        "model.fit(x_train, y_train)\r\n",
        "\r\n",
        "model"
      ],
      "execution_count": 41,
      "outputs": [
        {
          "output_type": "stream",
          "text": [
            "/usr/local/lib/python3.6/dist-packages/sklearn/linear_model/_logistic.py:940: ConvergenceWarning: lbfgs failed to converge (status=1):\n",
            "STOP: TOTAL NO. of ITERATIONS REACHED LIMIT.\n",
            "\n",
            "Increase the number of iterations (max_iter) or scale the data as shown in:\n",
            "    https://scikit-learn.org/stable/modules/preprocessing.html\n",
            "Please also refer to the documentation for alternative solver options:\n",
            "    https://scikit-learn.org/stable/modules/linear_model.html#logistic-regression\n",
            "  extra_warning_msg=_LOGISTIC_SOLVER_CONVERGENCE_MSG)\n"
          ],
          "name": "stderr"
        },
        {
          "output_type": "execute_result",
          "data": {
            "text/plain": [
              "LogisticRegression(C=1.0, class_weight=None, dual=False, fit_intercept=True,\n",
              "                   intercept_scaling=1, l1_ratio=None, max_iter=100,\n",
              "                   multi_class='auto', n_jobs=None, penalty='l2',\n",
              "                   random_state=None, solver='lbfgs', tol=0.0001, verbose=0,\n",
              "                   warm_start=False)"
            ]
          },
          "metadata": {
            "tags": []
          },
          "execution_count": 41
        }
      ]
    },
    {
      "cell_type": "code",
      "metadata": {
        "id": "qA7K12B5vugB"
      },
      "source": [
        "pred_cv = model.predict(x_cv)"
      ],
      "execution_count": 42,
      "outputs": []
    },
    {
      "cell_type": "code",
      "metadata": {
        "colab": {
          "base_uri": "https://localhost:8080/"
        },
        "id": "zOVueXZVv0YQ",
        "outputId": "6daa3be0-2405-428a-caa0-aec6cf62ad3a"
      },
      "source": [
        "accuracy_score(y_cv, pred_cv)"
      ],
      "execution_count": 43,
      "outputs": [
        {
          "output_type": "execute_result",
          "data": {
            "text/plain": [
              "0.8108108108108109"
            ]
          },
          "metadata": {
            "tags": []
          },
          "execution_count": 43
        }
      ]
    },
    {
      "cell_type": "code",
      "metadata": {
        "colab": {
          "base_uri": "https://localhost:8080/"
        },
        "id": "ODpDf7ZQv4uE",
        "outputId": "03035ad7-4b10-453a-8b46-b206a6de551d"
      },
      "source": [
        "accuracy_score(pred_cv, y_cv) ## Just checking if we alter the dataset what could be the result"
      ],
      "execution_count": 44,
      "outputs": [
        {
          "output_type": "execute_result",
          "data": {
            "text/plain": [
              "0.8108108108108109"
            ]
          },
          "metadata": {
            "tags": []
          },
          "execution_count": 44
        }
      ]
    },
    {
      "cell_type": "code",
      "metadata": {
        "id": "Wg6G5ZrY61dU"
      },
      "source": [
        "pred_test = model.predict(test)\r\n"
      ],
      "execution_count": 45,
      "outputs": []
    },
    {
      "cell_type": "code",
      "metadata": {
        "colab": {
          "base_uri": "https://localhost:8080/"
        },
        "id": "p2DmKQaEv9D_",
        "outputId": "5014db45-c2a4-4dcf-b851-3c765f24b28a"
      },
      "source": [
        "## Logistic Regression Using stratified k - Folds cross validation \r\n",
        "\r\n",
        "from sklearn.model_selection import StratifiedKFold\r\n",
        "\r\n",
        "i = 1\r\n",
        "kf = StratifiedKFold(n_splits=5, random_state=1, shuffle=True)\r\n",
        "for train_index, test_index in kf.split(X, y):\r\n",
        "  print ('\\n {} of kfold {}'.format(i, kf.n_splits) )\r\n",
        "  xtr, xvl = X.loc[train_index], X.loc[test_index]\r\n",
        "  ytr, yvl = y.loc[train_index], y.loc[test_index]\r\n",
        "  model = LogisticRegression(random_state=1)\r\n",
        "  model.fit(xtr, ytr)\r\n",
        "  pred_test = model.predict(xvl)\r\n",
        "  score = accuracy_score(yvl, pred_test[:185])\r\n",
        "  print ('accuracy_Score', score)\r\n",
        "  i += 1\r\n",
        "  pres_test = model.predict(test)\r\n",
        "  pred = model.predict_proba(xvl)[:, 1]"
      ],
      "execution_count": 46,
      "outputs": [
        {
          "output_type": "stream",
          "text": [
            "/usr/local/lib/python3.6/dist-packages/sklearn/linear_model/_logistic.py:940: ConvergenceWarning: lbfgs failed to converge (status=1):\n",
            "STOP: TOTAL NO. of ITERATIONS REACHED LIMIT.\n",
            "\n",
            "Increase the number of iterations (max_iter) or scale the data as shown in:\n",
            "    https://scikit-learn.org/stable/modules/preprocessing.html\n",
            "Please also refer to the documentation for alternative solver options:\n",
            "    https://scikit-learn.org/stable/modules/linear_model.html#logistic-regression\n",
            "  extra_warning_msg=_LOGISTIC_SOLVER_CONVERGENCE_MSG)\n",
            "/usr/local/lib/python3.6/dist-packages/sklearn/linear_model/_logistic.py:940: ConvergenceWarning: lbfgs failed to converge (status=1):\n",
            "STOP: TOTAL NO. of ITERATIONS REACHED LIMIT.\n",
            "\n",
            "Increase the number of iterations (max_iter) or scale the data as shown in:\n",
            "    https://scikit-learn.org/stable/modules/preprocessing.html\n",
            "Please also refer to the documentation for alternative solver options:\n",
            "    https://scikit-learn.org/stable/modules/linear_model.html#logistic-regression\n",
            "  extra_warning_msg=_LOGISTIC_SOLVER_CONVERGENCE_MSG)\n"
          ],
          "name": "stderr"
        },
        {
          "output_type": "stream",
          "text": [
            "\n",
            " 1 of kfold 5\n",
            "accuracy_Score 0.8048780487804879\n",
            "\n",
            " 2 of kfold 5\n",
            "accuracy_Score 0.8373983739837398\n",
            "\n",
            " 3 of kfold 5\n",
            "accuracy_Score 0.7804878048780488\n",
            "\n",
            " 4 of kfold 5\n",
            "accuracy_Score 0.7886178861788617\n",
            "\n",
            " 5 of kfold 5\n",
            "accuracy_Score 0.7950819672131147\n"
          ],
          "name": "stdout"
        },
        {
          "output_type": "stream",
          "text": [
            "/usr/local/lib/python3.6/dist-packages/sklearn/linear_model/_logistic.py:940: ConvergenceWarning: lbfgs failed to converge (status=1):\n",
            "STOP: TOTAL NO. of ITERATIONS REACHED LIMIT.\n",
            "\n",
            "Increase the number of iterations (max_iter) or scale the data as shown in:\n",
            "    https://scikit-learn.org/stable/modules/preprocessing.html\n",
            "Please also refer to the documentation for alternative solver options:\n",
            "    https://scikit-learn.org/stable/modules/linear_model.html#logistic-regression\n",
            "  extra_warning_msg=_LOGISTIC_SOLVER_CONVERGENCE_MSG)\n",
            "/usr/local/lib/python3.6/dist-packages/sklearn/linear_model/_logistic.py:940: ConvergenceWarning: lbfgs failed to converge (status=1):\n",
            "STOP: TOTAL NO. of ITERATIONS REACHED LIMIT.\n",
            "\n",
            "Increase the number of iterations (max_iter) or scale the data as shown in:\n",
            "    https://scikit-learn.org/stable/modules/preprocessing.html\n",
            "Please also refer to the documentation for alternative solver options:\n",
            "    https://scikit-learn.org/stable/modules/linear_model.html#logistic-regression\n",
            "  extra_warning_msg=_LOGISTIC_SOLVER_CONVERGENCE_MSG)\n"
          ],
          "name": "stderr"
        }
      ]
    },
    {
      "cell_type": "code",
      "metadata": {
        "colab": {
          "base_uri": "https://localhost:8080/",
          "height": 497
        },
        "id": "r_2o0EdMwJEd",
        "outputId": "dd3b7bc2-39d4-47f9-c306-fcb986b743a1"
      },
      "source": [
        "## Let us plot ROC - AUC Curve \r\n",
        "\r\n",
        "from sklearn import metrics\r\n",
        "\r\n",
        "fpr, tpr, _ = metrics.roc_curve(yvl, pred)\r\n",
        "auc = metrics.roc_auc_score(yvl, pred)\r\n",
        "\r\n",
        "plt.figure(figsize=(12, 8))\r\n",
        "plt.plot(fpr, tpr, label='Validation, auc='+str(auc))\r\n",
        "plt.xlabel('False POsitive Rate')\r\n",
        "plt.ylabel('True Positive Rate')\r\n",
        "plt.legend(loc=4)\r\n",
        "plt.show()"
      ],
      "execution_count": 47,
      "outputs": [
        {
          "output_type": "display_data",
          "data": {
            "image/png": "[encoded data removed]",
            "text/plain": [
              "<Figure size 864x576 with 1 Axes>"
            ]
          },
          "metadata": {
            "tags": [],
            "needs_background": "light"
          }
        }
      ]
    },
    {
      "cell_type": "code",
      "metadata": {
        "id": "IIUJizGzwRR9"
      },
      "source": [
        "## AUC Value of 73% "
      ],
      "execution_count": 48,
      "outputs": []
    },
    {
      "cell_type": "code",
      "metadata": {
        "colab": {
          "base_uri": "https://localhost:8080/",
          "height": 385
        },
        "id": "upxFLcDy9AYk",
        "outputId": "ad1983d7-c46b-43d7-d4bb-e109c1adda31"
      },
      "source": [
        "## More Feature Engineering\r\n",
        "\r\n",
        "## Combine Applicant and CoApplicant Income as the chances of approval are more \r\n",
        "## EMI can be calculated using ratio of loan amount with respect to loan amount term\r\n",
        "## Balance Income: Income left after EMI payment. if more income after EMI deduction then approval is easy\r\n",
        "\r\n",
        "train['Total_Income'] = train['ApplicantIncome'] + train['CoapplicantIncome']\r\n",
        "test['Total_Income'] = test['ApplicantIncome'] + test['CoapplicantIncome']\r\n",
        "\r\n",
        "sns.displot(train['Total_Income'])"
      ],
      "execution_count": 49,
      "outputs": [
        {
          "output_type": "execute_result",
          "data": {
            "text/plain": [
              "<seaborn.axisgrid.FacetGrid at 0x7f4b148b2518>"
            ]
          },
          "metadata": {
            "tags": []
          },
          "execution_count": 49
        },
        {
          "output_type": "display_data",
          "data": {
            "image/png": "[encoded data removed]",
            "text/plain": [
              "<Figure size 360x360 with 1 Axes>"
            ]
          },
          "metadata": {
            "tags": [],
            "needs_background": "light"
          }
        }
      ]
    },
    {
      "cell_type": "code",
      "metadata": {
        "colab": {
          "base_uri": "https://localhost:8080/",
          "height": 333
        },
        "id": "O3q5gGD8-_uS",
        "outputId": "6bca0ef0-c2bb-4bbe-90ad-387f17009063"
      },
      "source": [
        "train['Total_Income_Log'] = np.log(train['Total_Income'])\r\n",
        "sns.distplot(train['Total_Income_Log'])\r\n",
        "test['Total_Income_Log'] = np.log(test['Total_Income'])"
      ],
      "execution_count": 50,
      "outputs": [
        {
          "output_type": "stream",
          "text": [
            "/usr/local/lib/python3.6/dist-packages/seaborn/distributions.py:2551: FutureWarning: `distplot` is a deprecated function and will be removed in a future version. Please adapt your code to use either `displot` (a figure-level function with similar flexibility) or `histplot` (an axes-level function for histograms).\n",
            "  warnings.warn(msg, FutureWarning)\n"
          ],
          "name": "stderr"
        },
        {
          "output_type": "display_data",
          "data": {
            "image/png": "[encoded data removed]",
            "text/plain": [
              "<Figure size 432x288 with 1 Axes>"
            ]
          },
          "metadata": {
            "tags": [],
            "needs_background": "light"
          }
        }
      ]
    },
    {
      "cell_type": "code",
      "metadata": {
        "colab": {
          "base_uri": "https://localhost:8080/",
          "height": 349
        },
        "id": "1d51vXAl_Q-g",
        "outputId": "29a7f430-b396-4167-e675-08e13570af96"
      },
      "source": [
        "train['EMI'] = train['LoanAmount']/train['Loan_Amount_Term']\r\n",
        "test['EMI'] = test['LoanAmount']/test['Loan_Amount_Term']\r\n",
        "\r\n",
        "sns.distplot(train['EMI'])"
      ],
      "execution_count": 51,
      "outputs": [
        {
          "output_type": "stream",
          "text": [
            "/usr/local/lib/python3.6/dist-packages/seaborn/distributions.py:2551: FutureWarning: `distplot` is a deprecated function and will be removed in a future version. Please adapt your code to use either `displot` (a figure-level function with similar flexibility) or `histplot` (an axes-level function for histograms).\n",
            "  warnings.warn(msg, FutureWarning)\n"
          ],
          "name": "stderr"
        },
        {
          "output_type": "execute_result",
          "data": {
            "text/plain": [
              "<matplotlib.axes._subplots.AxesSubplot at 0x7f4ae754c6d8>"
            ]
          },
          "metadata": {
            "tags": []
          },
          "execution_count": 51
        },
        {
          "output_type": "display_data",
          "data": {
            "image/png": "[encoded data removed]",
            "text/plain": [
              "<Figure size 432x288 with 1 Axes>"
            ]
          },
          "metadata": {
            "tags": [],
            "needs_background": "light"
          }
        }
      ]
    },
    {
      "cell_type": "code",
      "metadata": {
        "colab": {
          "base_uri": "https://localhost:8080/",
          "height": 349
        },
        "id": "azi2wTUO_g15",
        "outputId": "11a57ed0-f0e0-4d87-a24c-907bf2f63c55"
      },
      "source": [
        "train['Balance Income'] = train['Total_Income'] - (train ['EMI'] * 1000)  ## Multiply with 1000 to make the units equal\r\n",
        "test['Balance Income'] = test['Total_Income'] - (test ['EMI'] * 1000)\r\n",
        "\r\n",
        "sns.distplot(train['Balance Income'])"
      ],
      "execution_count": 52,
      "outputs": [
        {
          "output_type": "stream",
          "text": [
            "/usr/local/lib/python3.6/dist-packages/seaborn/distributions.py:2551: FutureWarning: `distplot` is a deprecated function and will be removed in a future version. Please adapt your code to use either `displot` (a figure-level function with similar flexibility) or `histplot` (an axes-level function for histograms).\n",
            "  warnings.warn(msg, FutureWarning)\n"
          ],
          "name": "stderr"
        },
        {
          "output_type": "execute_result",
          "data": {
            "text/plain": [
              "<matplotlib.axes._subplots.AxesSubplot at 0x7f4ae7830ef0>"
            ]
          },
          "metadata": {
            "tags": []
          },
          "execution_count": 52
        },
        {
          "output_type": "display_data",
          "data": {
            "image/png": "[encoded data removed]",
            "text/plain": [
              "<Figure size 432x288 with 1 Axes>"
            ]
          },
          "metadata": {
            "tags": [],
            "needs_background": "light"
          }
        }
      ]
    },
    {
      "cell_type": "code",
      "metadata": {
        "id": "QmGmRklbAQW5"
      },
      "source": [
        "train = train.drop(['ApplicantIncome', 'CoapplicantIncome', 'LoanAmount', 'Loan_Amount_Term'], axis=1)\r\n",
        "test = test.drop(['ApplicantIncome', 'CoapplicantIncome', 'LoanAmount', 'Loan_Amount_Term'], axis=1)"
      ],
      "execution_count": 53,
      "outputs": []
    },
    {
      "cell_type": "code",
      "metadata": {
        "id": "w87da1ALAfu4"
      },
      "source": [
        "### Build model using Various Models \r\n",
        "\r\n",
        "X = train.drop('Loan_Status', axis=1)\r\n",
        "y = train.Loan_Status"
      ],
      "execution_count": 54,
      "outputs": []
    },
    {
      "cell_type": "code",
      "metadata": {
        "colab": {
          "base_uri": "https://localhost:8080/"
        },
        "id": "DGCo5JWzBArd",
        "outputId": "cc8f78fa-756a-4460-eb3c-06dd2fb6883e"
      },
      "source": [
        "## Logistic Regression \r\n",
        "i=1\r\n",
        "kf = StratifiedKFold(n_splits=5, random_state=1, shuffle=True)\r\n",
        "for train_index, test_index in kf.split(X, y):\r\n",
        "  print('\\n {} of kfold {} '.format(i, kf.n_splits))\r\n",
        "  xtr, xvl = X.loc[train_index], X.loc[test_index]\r\n",
        "  ytr, yvl = y[train_index], y[test_index]\r\n",
        "\r\n",
        "  model = LogisticRegression(random_state=1)\r\n",
        "  model.fit(xtr, ytr)\r\n",
        "  \r\n",
        "  pred_test = model.predict(xvl)\r\n",
        "  score = accuracy_score(yvl, pred_test)\r\n",
        "\r\n",
        "  print('accuracy_score', score)\r\n",
        "  i += 1\r\n",
        "  \r\n",
        "  pres_test = model.predict(test)\r\n",
        "  pred = model.predict_proba(xvl)[:, 1]\r\n"
      ],
      "execution_count": 57,
      "outputs": [
        {
          "output_type": "stream",
          "text": [
            "\n",
            " 1 of kfold 5 \n",
            "accuracy_score 0.7886178861788617\n",
            "\n",
            " 2 of kfold 5 \n",
            "accuracy_score 0.6910569105691057\n",
            "\n",
            " 3 of kfold 5 \n",
            "accuracy_score 0.6666666666666666\n",
            "\n",
            " 4 of kfold 5 \n",
            "accuracy_score 0.7967479674796748\n",
            "\n",
            " 5 of kfold 5 \n",
            "accuracy_score 0.680327868852459\n"
          ],
          "name": "stdout"
        },
        {
          "output_type": "stream",
          "text": [
            "/usr/local/lib/python3.6/dist-packages/sklearn/linear_model/_logistic.py:940: ConvergenceWarning: lbfgs failed to converge (status=1):\n",
            "STOP: TOTAL NO. of ITERATIONS REACHED LIMIT.\n",
            "\n",
            "Increase the number of iterations (max_iter) or scale the data as shown in:\n",
            "    https://scikit-learn.org/stable/modules/preprocessing.html\n",
            "Please also refer to the documentation for alternative solver options:\n",
            "    https://scikit-learn.org/stable/modules/linear_model.html#logistic-regression\n",
            "  extra_warning_msg=_LOGISTIC_SOLVER_CONVERGENCE_MSG)\n"
          ],
          "name": "stderr"
        }
      ]
    },
    {
      "cell_type": "code",
      "metadata": {
        "colab": {
          "base_uri": "https://localhost:8080/"
        },
        "id": "I1Ln2KxlCLy7",
        "outputId": "da2e7448-601c-486f-e143-76317e2456d9"
      },
      "source": [
        "## Decision Tree\r\n",
        "\r\n",
        "from sklearn import tree \r\n",
        "\r\n",
        "i=1\r\n",
        "kf = StratifiedKFold(n_splits=5, random_state=1, shuffle=True)\r\n",
        "for train_index, test_index in kf.split(X, y):\r\n",
        "  print('\\n {} of kfold {} '.format(i, kf.n_splits))\r\n",
        "  xtr, xvl = X.loc[train_index], X.loc[test_index]\r\n",
        "  ytr, yvl = y[train_index], y[test_index]\r\n",
        "\r\n",
        "  model = tree.DecisionTreeClassifier(random_state=1)\r\n",
        "  model.fit(xtr, ytr)\r\n",
        "  \r\n",
        "  pred_test = model.predict(xvl)\r\n",
        "  score = accuracy_score(yvl, pred_test)\r\n",
        "\r\n",
        "  print('accuracy_score', score)\r\n",
        "  i += 1\r\n",
        "  \r\n",
        "  pres_test = model.predict(test)\r\n",
        "  pred = model.predict_proba(xvl)[:, 1]"
      ],
      "execution_count": 58,
      "outputs": [
        {
          "output_type": "stream",
          "text": [
            "\n",
            " 1 of kfold 5 \n",
            "accuracy_score 0.7398373983739838\n",
            "\n",
            " 2 of kfold 5 \n",
            "accuracy_score 0.6991869918699187\n",
            "\n",
            " 3 of kfold 5 \n",
            "accuracy_score 0.7560975609756098\n",
            "\n",
            " 4 of kfold 5 \n",
            "accuracy_score 0.7073170731707317\n",
            "\n",
            " 5 of kfold 5 \n",
            "accuracy_score 0.6721311475409836\n"
          ],
          "name": "stdout"
        }
      ]
    },
    {
      "cell_type": "code",
      "metadata": {
        "colab": {
          "base_uri": "https://localhost:8080/"
        },
        "id": "j0htdlJ8Ch2S",
        "outputId": "e3a05d23-31e4-4567-c264-3cba83c49ee6"
      },
      "source": [
        "## RandomForest \r\n",
        "\r\n",
        "from sklearn.ensemble import RandomForestClassifier\r\n",
        "\r\n",
        "i=1\r\n",
        "kf = StratifiedKFold(n_splits=5, random_state=1, shuffle=True)\r\n",
        "for train_index, test_index in kf.split(X, y):\r\n",
        "  print('\\n {} of kfold {} '.format(i, kf.n_splits))\r\n",
        "  xtr, xvl = X.loc[train_index], X.loc[test_index]\r\n",
        "  ytr, yvl = y[train_index], y[test_index]\r\n",
        "\r\n",
        "  model = RandomForestClassifier(random_state=1, max_depth=6)\r\n",
        "  model.fit(xtr, ytr)\r\n",
        "  \r\n",
        "  pred_test = model.predict(xvl)\r\n",
        "  score = accuracy_score(yvl, pred_test)\r\n",
        "\r\n",
        "  print('accuracy_score', score)\r\n",
        "  i += 1\r\n",
        "  \r\n",
        "  pres_test = model.predict(test)\r\n",
        "  pred = model.predict_proba(xvl)[:, 1]"
      ],
      "execution_count": 66,
      "outputs": [
        {
          "output_type": "stream",
          "text": [
            "\n",
            " 1 of kfold 5 \n",
            "accuracy_score 0.8292682926829268\n",
            "\n",
            " 2 of kfold 5 \n",
            "accuracy_score 0.8373983739837398\n",
            "\n",
            " 3 of kfold 5 \n",
            "accuracy_score 0.7804878048780488\n",
            "\n",
            " 4 of kfold 5 \n",
            "accuracy_score 0.7804878048780488\n",
            "\n",
            " 5 of kfold 5 \n",
            "accuracy_score 0.7868852459016393\n"
          ],
          "name": "stdout"
        }
      ]
    },
    {
      "cell_type": "code",
      "metadata": {
        "colab": {
          "base_uri": "https://localhost:8080/"
        },
        "id": "k_u6TUwFC0Sd",
        "outputId": "9b6f75cd-50a5-4ee3-99d1-9e64b290f70a"
      },
      "source": [
        "## Use GridSearchCV \r\n",
        "\r\n",
        "from sklearn.model_selection import GridSearchCV\r\n",
        "\r\n",
        "paramgrid = {'max_depth':list(range(1, 20, 2)), 'n_estimators':list(range(1, 200, 20))}\r\n",
        "\r\n",
        "grid_search = GridSearchCV(RandomForestClassifier(random_state=1), paramgrid)\r\n",
        "\r\n",
        "from sklearn.model_selection import train_test_split\r\n",
        "\r\n",
        "x_train, x_cv, y_train, y_cv = train_test_split(X, y, test_size=0.3, random_state=1)\r\n",
        "\r\n",
        "grid_search.fit(x_train, y_train)\r\n",
        "\r\n"
      ],
      "execution_count": 68,
      "outputs": [
        {
          "output_type": "execute_result",
          "data": {
            "text/plain": [
              "GridSearchCV(cv=None, error_score=nan,\n",
              "             estimator=RandomForestClassifier(bootstrap=True, ccp_alpha=0.0,\n",
              "                                              class_weight=None,\n",
              "                                              criterion='gini', max_depth=None,\n",
              "                                              max_features='auto',\n",
              "                                              max_leaf_nodes=None,\n",
              "                                              max_samples=None,\n",
              "                                              min_impurity_decrease=0.0,\n",
              "                                              min_impurity_split=None,\n",
              "                                              min_samples_leaf=1,\n",
              "                                              min_samples_split=2,\n",
              "                                              min_weight_fraction_leaf=0.0,\n",
              "                                              n_estimators=100, n_jobs=None,\n",
              "                                              oob_score=False, random_state=1,\n",
              "                                              verbose=0, warm_start=False),\n",
              "             iid='deprecated', n_jobs=None,\n",
              "             param_grid={'max_depth': [1, 3, 5, 7, 9, 11, 13, 15, 17, 19],\n",
              "                         'n_estimators': [1, 21, 41, 61, 81, 101, 121, 141, 161,\n",
              "                                          181]},\n",
              "             pre_dispatch='2*n_jobs', refit=True, return_train_score=False,\n",
              "             scoring=None, verbose=0)"
            ]
          },
          "metadata": {
            "tags": []
          },
          "execution_count": 68
        }
      ]
    },
    {
      "cell_type": "code",
      "metadata": {
        "colab": {
          "base_uri": "https://localhost:8080/"
        },
        "id": "0gSm7Z2YFQOA",
        "outputId": "d0315b7d-cbbb-4c47-cdfc-1d4050b0cfb8"
      },
      "source": [
        "grid_search.best_estimator_"
      ],
      "execution_count": 69,
      "outputs": [
        {
          "output_type": "execute_result",
          "data": {
            "text/plain": [
              "RandomForestClassifier(bootstrap=True, ccp_alpha=0.0, class_weight=None,\n",
              "                       criterion='gini', max_depth=5, max_features='auto',\n",
              "                       max_leaf_nodes=None, max_samples=None,\n",
              "                       min_impurity_decrease=0.0, min_impurity_split=None,\n",
              "                       min_samples_leaf=1, min_samples_split=2,\n",
              "                       min_weight_fraction_leaf=0.0, n_estimators=41,\n",
              "                       n_jobs=None, oob_score=False, random_state=1, verbose=0,\n",
              "                       warm_start=False)"
            ]
          },
          "metadata": {
            "tags": []
          },
          "execution_count": 69
        }
      ]
    },
    {
      "cell_type": "code",
      "metadata": {
        "colab": {
          "base_uri": "https://localhost:8080/"
        },
        "id": "gJM6DdFdFoSM",
        "outputId": "e5353857-acab-42f3-b940-5463d4ca7876"
      },
      "source": [
        "grid_search.best_params_"
      ],
      "execution_count": 70,
      "outputs": [
        {
          "output_type": "execute_result",
          "data": {
            "text/plain": [
              "{'max_depth': 5, 'n_estimators': 41}"
            ]
          },
          "metadata": {
            "tags": []
          },
          "execution_count": 70
        }
      ]
    },
    {
      "cell_type": "code",
      "metadata": {
        "colab": {
          "base_uri": "https://localhost:8080/"
        },
        "id": "-Mz4j3wTFrwM",
        "outputId": "c1fb56bc-a635-453b-caa9-b94f3c4fd129"
      },
      "source": [
        "## XGBoost\r\n",
        "\r\n",
        "from xgboost import XGBClassifier\r\n",
        "\r\n",
        "i=1\r\n",
        "kf = StratifiedKFold(n_splits=5, random_state=1, shuffle=True)\r\n",
        "for train_index, test_index in kf.split(X, y):\r\n",
        "  print('\\n {} of kfold {} '.format(i, kf.n_splits))\r\n",
        "  xtr, xvl = X.loc[train_index], X.loc[test_index]\r\n",
        "  ytr, yvl = y[train_index], y[test_index]\r\n",
        "\r\n",
        "  model = XGBClassifier(random_state=1, max_depth=6)\r\n",
        "  model.fit(xtr, ytr)\r\n",
        "  \r\n",
        "  pred_test = model.predict(xvl)\r\n",
        "  score = accuracy_score(yvl, pred_test)\r\n",
        "\r\n",
        "  print('accuracy_score', score)\r\n",
        "  i += 1\r\n",
        "  \r\n",
        "  pres_test = model.predict(test)\r\n",
        "  pred = model.predict_proba(xvl)[:, 1]"
      ],
      "execution_count": 71,
      "outputs": [
        {
          "output_type": "stream",
          "text": [
            "\n",
            " 1 of kfold 5 \n",
            "accuracy_score 0.7886178861788617\n",
            "\n",
            " 2 of kfold 5 \n",
            "accuracy_score 0.7398373983739838\n",
            "\n",
            " 3 of kfold 5 \n",
            "accuracy_score 0.8048780487804879\n",
            "\n",
            " 4 of kfold 5 \n",
            "accuracy_score 0.7804878048780488\n",
            "\n",
            " 5 of kfold 5 \n",
            "accuracy_score 0.7377049180327869\n"
          ],
          "name": "stdout"
        }
      ]
    },
    {
      "cell_type": "code",
      "metadata": {
        "id": "5AcplOAVGK7c"
      },
      "source": [
        ""
      ],
      "execution_count": null,
      "outputs": []
    }
  ]
}